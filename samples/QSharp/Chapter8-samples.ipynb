{
 "cells": [
  {
   "cell_type": "markdown",
   "metadata": {},
   "source": [
    "![(book cover)](https://covers.oreillystatic.com/images/0636920167433/cat.gif \"(book cover)\")\n",
    "# Programming Quantum Computers by O'Reilly Media -  [book info](http://shop.oreilly.com/product/0636920167433.do)  - [all code samples](https://oreilly-qc.github.io)\n",
    "\n",
    "## Code samples for Chapter 8\n",
    "These code samples were written by Mariia Mykhailova."
   ]
  },
  {
   "cell_type": "markdown",
   "metadata": {},
   "source": [
    "### Example 8-1: Using the phase estimation primitive"
   ]
  },
  {
   "cell_type": "code",
   "execution_count": 1,
   "metadata": {},
   "outputs": [
    {
     "data": {
      "application/json": "[\"HPower\",\"UsingQPE\"]",
      "text/html": [
       "<ul><li>HPower</li><li>UsingQPE</li></ul>"
      ],
      "text/plain": [
       "HPower, UsingQPE"
      ]
     },
     "execution_count": 1,
     "metadata": {},
     "output_type": "execute_result"
    }
   ],
   "source": [
    "// Example 8-1: Using the phase estimation primitive\n",
    "\n",
    "open Microsoft.Quantum.Arithmetic;\n",
    "open Microsoft.Quantum.Characterization;\n",
    "open Microsoft.Quantum.Convert;\n",
    "open Microsoft.Quantum.Diagnostics;\n",
    "open Microsoft.Quantum.Math;\n",
    "open Microsoft.Quantum.Oracles;\n",
    "\n",
    "// Helper operation to define powers of H gate\n",
    "operation HPower (power : Int, register : Qubit[]) : Unit is Adj + Ctl {\n",
    "    // We know that H² = I, so we just need to apply H if power is odd\n",
    "    if (power % 2 == 1) {\n",
    "        H(register[0]);\n",
    "    }\n",
    "}\n",
    "\n",
    "operation UsingQPE () : Unit {\n",
    "    let precision = 4;\n",
    "    // Allocate qubits to hold the eigenstate of H and the phase (in a big endian register)\n",
    "    use (eigenstate, phaseRegister) = (Qubit[1], Qubit[precision]);\n",
    "    // Prepare the eigenstate of H gate corresponding to eigenphase of 180°\n",
    "    // (for 0° we'd use 0.25 * PI() as rotation angle)\n",
    "    Ry(-0.75 * PI(), eigenstate[0]);\n",
    "\n",
    "    // Call library implementation of quantum phase estimation\n",
    "    let phaseRegisterBE = BigEndian(phaseRegister);\n",
    "    let powerUnitary = DiscreteOracle(HPower);\n",
    "    QuantumPhaseEstimation(powerUnitary, eigenstate, phaseRegisterBE);\n",
    "\n",
    "    // Read out the phase\n",
    "    let phase = IntAsDouble(MeasureInteger(BigEndianAsLittleEndian(phaseRegisterBE))) / IntAsDouble(1 <<< precision);\n",
    "    Message($\"Estimated phase = {phase * 360.0}°\");\n",
    "\n",
    "    ResetAll(eigenstate + phaseRegister);\n",
    "}"
   ]
  },
  {
   "cell_type": "code",
   "execution_count": 2,
   "metadata": {
    "scrolled": true
   },
   "outputs": [
    {
     "name": "stdout",
     "output_type": "stream",
     "text": [
      "Estimated phase = 180°\n"
     ]
    },
    {
     "data": {
      "application/json": "{\"@type\":\"tuple\"}",
      "text/plain": [
       "()"
      ]
     },
     "execution_count": 2,
     "metadata": {},
     "output_type": "execute_result"
    }
   ],
   "source": [
    "%simulate UsingQPE"
   ]
  },
  {
   "cell_type": "markdown",
   "metadata": {},
   "source": [
    "### Example 8-2: Implementation of the phase estimation primitive"
   ]
  },
  {
   "cell_type": "code",
   "execution_count": 3,
   "metadata": {
    "scrolled": true
   },
   "outputs": [
    {
     "data": {
      "application/json": "[\"ImplementingQPE\",\"QPE\",\"RotatePower\"]",
      "text/html": [
       "<ul><li>ImplementingQPE</li><li>QPE</li><li>RotatePower</li></ul>"
      ],
      "text/plain": [
       "ImplementingQPE, QPE, RotatePower"
      ]
     },
     "execution_count": 3,
     "metadata": {},
     "output_type": "execute_result"
    }
   ],
   "source": [
    "// Example 8-2: Implementation of the phase estimation primitive\n",
    "\n",
    "open Microsoft.Quantum.Arithmetic;\n",
    "open Microsoft.Quantum.Characterization;\n",
    "open Microsoft.Quantum.Convert;\n",
    "open Microsoft.Quantum.Diagnostics;\n",
    "open Microsoft.Quantum.Math;\n",
    "open Microsoft.Quantum.Oracles;\n",
    "\n",
    "operation QPE (powerUnitary : ((Int, Qubit[]) => Unit is Adj+Ctl), \n",
    "               eigenstate : Qubit[],\n",
    "               phaseRegister : Qubit[]) : Unit {\n",
    "    ApplyToEach(H, phaseRegister);\n",
    "    \n",
    "    // Apply conditional powers of U\n",
    "    for i in 0 .. Length(phaseRegister) - 1 {\n",
    "        Controlled powerUnitary([phaseRegister[i]], (1 <<< i, eigenstate));\n",
    "    }\n",
    "    \n",
    "    QFTLE(LittleEndian(phaseRegister));\n",
    "}\n",
    "\n",
    "// Helper operation to define powers of the rotation gate\n",
    "operation RotatePower (power : Int, register : Qubit[]) : Unit is Adj + Ctl {\n",
    "    // To apply higher powers of the rotation gate, we can rotate by multiples of the angle\n",
    "    R1(-PI() * 5.0/6.0 * IntAsDouble(power), register[0]);\n",
    "}\n",
    "\n",
    "operation ImplementingQPE () : Unit {\n",
    "    let precision = 3;\n",
    "    // Allocate qubits to hold the eigenstate of H and the phase (in a big endian register)\n",
    "    use (eigenstate, phaseRegister) = (Qubit[1], Qubit[precision]);\n",
    "    // Prepare the eigenstate of the rotation gate corresponding to eigenphase of 150°;\n",
    "    // for R1 gate, that is simply a |1⟩\n",
    "    X(eigenstate[0]);\n",
    "\n",
    "    // Call our implementation of quantum phase estimation\n",
    "    QPE(RotatePower, eigenstate, phaseRegister);\n",
    "\n",
    "    // Inspect the state we obtain after applying QPE\n",
    "    DumpRegister((), phaseRegister);\n",
    "\n",
    "    // Read out the phase\n",
    "    let phase = IntAsDouble(MeasureInteger(LittleEndian(phaseRegister))) / IntAsDouble(1 <<< precision);\n",
    "    Message($\"Estimated phase = {phase * 360.0}°\");\n",
    "\n",
    "    ResetAll(eigenstate + phaseRegister);\n",
    "}"
   ]
  },
  {
   "cell_type": "code",
   "execution_count": 4,
   "metadata": {
    "scrolled": true
   },
   "outputs": [
    {
     "data": {
      "application/json": "{\"QubitIds\":[1,2,3],\"NQubits\":3,\"Amplitudes\":[{\"Real\":0.10825317547305487,\"Imaginary\":0.029006350946109552,\"Magnitude\":0.1120719340210067,\"Phase\":0.2617993877991484},{\"Real\":0.13528279153744854,\"Imaginary\":-0.017810317386500216,\"Magnitude\":0.1364501414127982,\"Phase\":-0.13089969389957543},{\"Real\":0.18749999999999992,\"Imaginary\":-0.10825317547305492,\"Magnitude\":0.21650635094610965,\"Phase\":-0.5235987755982995},{\"Real\":0.5048822514075066,\"Imaginary\":-0.6579753603314554,\"Magnitude\":0.8293597907962631,\"Phase\":-0.9162978572970232},{\"Real\":-0.10825317547305481,\"Imaginary\":0.4040063509461098,\"Magnitude\":0.4182581518689041,\"Phase\":1.832595714594046},{\"Real\":0.023210857516441776,\"Imaginary\":0.1763039664403905,\"Magnitude\":0.17782528641692918,\"Phase\":1.4398966328953222},{\"Real\":0.06250000000000003,\"Imaginary\":0.10825317547305492,\"Magnitude\":0.1250000000000001,\"Phase\":1.0471975511965979},{\"Real\":0.08662409953860287,\"Imaginary\":0.06646900938534578,\"Magnitude\":0.1091872878568882,\"Phase\":0.6544984694978735}]}",
      "text/html": [
       "\r\n",
       "                    <table style=\"table-layout: fixed; width: 100%\">\r\n",
       "                        <thead>\r\n",
       "                            \r\n",
       "                        <tr>\r\n",
       "                            <th>Qubit IDs</th>\r\n",
       "                            <td span=\"3\">1, 2, 3</td>\r\n",
       "                        </tr>\r\n",
       "                    \r\n",
       "                            <tr>\r\n",
       "                                <th style=\"width: 20ch)\">Basis state (little endian)</th>\r\n",
       "                                <th style=\"width: 20ch\">Amplitude</th>\r\n",
       "                                <th style=\"width: calc(100% - 26ch - 20ch)\">Meas. Pr.</th>\r\n",
       "                                <th style=\"width: 6ch\">Phase</th>\r\n",
       "                            </tr>\r\n",
       "                        </thead>\r\n",
       "\r\n",
       "                        <tbody>\r\n",
       "                            \r\n",
       "                            <tr>\r\n",
       "                                <td>$\\left|0\\right\\rangle$</td>\r\n",
       "                                <td>$0.1083 + 0.0290 i$</td>\r\n",
       "                                <td>\r\n",
       "                                    <progress\r\n",
       "                                        max=\"100\"\r\n",
       "                                        value=\"1.256011839520888\"\r\n",
       "                                        style=\"width: 100%;\"\r\n",
       "                                    >\r\n",
       "                                </td>\r\n",
       "                                <td style=\"transform: rotate(14.999999999999943deg);\r\n",
       "                   text-align: center;\">\r\n",
       "                                    ↑\r\n",
       "                                </td>\r\n",
       "                            </tr>\r\n",
       "                        \n",
       "\r\n",
       "                            <tr>\r\n",
       "                                <td>$\\left|1\\right\\rangle$</td>\r\n",
       "                                <td>$0.1353  -0.0178 i$</td>\r\n",
       "                                <td>\r\n",
       "                                    <progress\r\n",
       "                                        max=\"100\"\r\n",
       "                                        value=\"1.861864109157263\"\r\n",
       "                                        style=\"width: 100%;\"\r\n",
       "                                    >\r\n",
       "                                </td>\r\n",
       "                                <td style=\"transform: rotate(-7.500000000000041deg);\r\n",
       "                   text-align: center;\">\r\n",
       "                                    ↑\r\n",
       "                                </td>\r\n",
       "                            </tr>\r\n",
       "                        \n",
       "\r\n",
       "                            <tr>\r\n",
       "                                <td>$\\left|2\\right\\rangle$</td>\r\n",
       "                                <td>$0.1875  -0.1083 i$</td>\r\n",
       "                                <td>\r\n",
       "                                    <progress\r\n",
       "                                        max=\"100\"\r\n",
       "                                        value=\"4.687499999999999\"\r\n",
       "                                        style=\"width: 100%;\"\r\n",
       "                                    >\r\n",
       "                                </td>\r\n",
       "                                <td style=\"transform: rotate(-30.000000000000036deg);\r\n",
       "                   text-align: center;\">\r\n",
       "                                    ↑\r\n",
       "                                </td>\r\n",
       "                            </tr>\r\n",
       "                        \n",
       "\r\n",
       "                            <tr>\r\n",
       "                                <td>$\\left|3\\right\\rangle$</td>\r\n",
       "                                <td>$0.5049  -0.6580 i$</td>\r\n",
       "                                <td>\r\n",
       "                                    <progress\r\n",
       "                                        max=\"100\"\r\n",
       "                                        value=\"68.78376625896213\"\r\n",
       "                                        style=\"width: 100%;\"\r\n",
       "                                    >\r\n",
       "                                </td>\r\n",
       "                                <td style=\"transform: rotate(-52.500000000000014deg);\r\n",
       "                   text-align: center;\">\r\n",
       "                                    ↑\r\n",
       "                                </td>\r\n",
       "                            </tr>\r\n",
       "                        \n",
       "\r\n",
       "                            <tr>\r\n",
       "                                <td>$\\left|4\\right\\rangle$</td>\r\n",
       "                                <td>$-0.1083 + 0.4040 i$</td>\r\n",
       "                                <td>\r\n",
       "                                    <progress\r\n",
       "                                        max=\"100\"\r\n",
       "                                        value=\"17.493988160479123\"\r\n",
       "                                        style=\"width: 100%;\"\r\n",
       "                                    >\r\n",
       "                                </td>\r\n",
       "                                <td style=\"transform: rotate(104.99999999999999deg);\r\n",
       "                   text-align: center;\">\r\n",
       "                                    ↑\r\n",
       "                                </td>\r\n",
       "                            </tr>\r\n",
       "                        \n",
       "\r\n",
       "                            <tr>\r\n",
       "                                <td>$\\left|5\\right\\rangle$</td>\r\n",
       "                                <td>$0.0232 + 0.1763 i$</td>\r\n",
       "                                <td>\r\n",
       "                                    <progress\r\n",
       "                                        max=\"100\"\r\n",
       "                                        value=\"3.1621832489262895\"\r\n",
       "                                        style=\"width: 100%;\"\r\n",
       "                                    >\r\n",
       "                                </td>\r\n",
       "                                <td style=\"transform: rotate(82.50000000000003deg);\r\n",
       "                   text-align: center;\">\r\n",
       "                                    ↑\r\n",
       "                                </td>\r\n",
       "                            </tr>\r\n",
       "                        \n",
       "\r\n",
       "                            <tr>\r\n",
       "                                <td>$\\left|6\\right\\rangle$</td>\r\n",
       "                                <td>$0.0625 + 0.1083 i$</td>\r\n",
       "                                <td>\r\n",
       "                                    <progress\r\n",
       "                                        max=\"100\"\r\n",
       "                                        value=\"1.5625000000000027\"\r\n",
       "                                        style=\"width: 100%;\"\r\n",
       "                                    >\r\n",
       "                                </td>\r\n",
       "                                <td style=\"transform: rotate(60.00000000000001deg);\r\n",
       "                   text-align: center;\">\r\n",
       "                                    ↑\r\n",
       "                                </td>\r\n",
       "                            </tr>\r\n",
       "                        \n",
       "\r\n",
       "                            <tr>\r\n",
       "                                <td>$\\left|7\\right\\rangle$</td>\r\n",
       "                                <td>$0.0866 + 0.0665 i$</td>\r\n",
       "                                <td>\r\n",
       "                                    <progress\r\n",
       "                                        max=\"100\"\r\n",
       "                                        value=\"1.1921863829542962\"\r\n",
       "                                        style=\"width: 100%;\"\r\n",
       "                                    >\r\n",
       "                                </td>\r\n",
       "                                <td style=\"transform: rotate(37.49999999999999deg);\r\n",
       "                   text-align: center;\">\r\n",
       "                                    ↑\r\n",
       "                                </td>\r\n",
       "                            </tr>\r\n",
       "                        \r\n",
       "                        </tbody>\r\n",
       "                    </table>\r\n",
       "                "
      ],
      "text/plain": [
       "|0⟩\t0.10825317547305487 + 0.029006350946109552𝑖\n",
       "|1⟩\t0.13528279153744854 + -0.017810317386500216𝑖\n",
       "|2⟩\t0.18749999999999992 + -0.10825317547305492𝑖\n",
       "|3⟩\t0.5048822514075066 + -0.6579753603314554𝑖\n",
       "|4⟩\t-0.10825317547305481 + 0.4040063509461098𝑖\n",
       "|5⟩\t0.023210857516441776 + 0.1763039664403905𝑖\n",
       "|6⟩\t0.06250000000000003 + 0.10825317547305492𝑖\n",
       "|7⟩\t0.08662409953860287 + 0.06646900938534578𝑖"
      ]
     },
     "metadata": {},
     "output_type": "display_data"
    },
    {
     "name": "stdout",
     "output_type": "stream",
     "text": [
      "Estimated phase = 90°\n"
     ]
    },
    {
     "data": {
      "application/json": "{\"@type\":\"tuple\"}",
      "text/plain": [
       "()"
      ]
     },
     "execution_count": 4,
     "metadata": {},
     "output_type": "execute_result"
    }
   ],
   "source": [
    "%simulate ImplementingQPE"
   ]
  }
 ],
 "metadata": {
  "kernelspec": {
   "display_name": "Q#",
   "language": "qsharp",
   "name": "iqsharp"
  },
  "language_info": {
   "file_extension": ".qs",
   "mimetype": "text/x-qsharp",
   "name": "qsharp",
   "version": "0.14"
  }
 },
 "nbformat": 4,
 "nbformat_minor": 2
}
