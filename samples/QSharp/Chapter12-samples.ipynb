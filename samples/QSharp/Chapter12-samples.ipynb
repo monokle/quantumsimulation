{
 "cells": [
  {
   "cell_type": "markdown",
   "metadata": {},
   "source": [
    "![(book cover)](https://covers.oreillystatic.com/images/0636920167433/cat.gif \"(book cover)\")\n",
    "# Programming Quantum Computers by O'Reilly Media -  [book info](http://shop.oreilly.com/product/0636920167433.do)  - [all code samples](https://oreilly-qc.github.io)\n",
    "\n",
    "## Code samples for Chapter 12\n",
    "These code samples were written by Mariia Mykhailova."
   ]
  },
  {
   "cell_type": "markdown",
   "metadata": {},
   "source": [
    "### Example 12-1: Complete factoring with Shor\n",
    "\n",
    "*This example follows [integer factorization example](https://github.com/microsoft/Quantum/tree/master/samples/algorithms/integer-factorization) from official Q# Samples repository.*"
   ]
  },
  {
   "cell_type": "code",
   "execution_count": 1,
   "metadata": {},
   "outputs": [
    {
     "data": {
      "application/json": "[\"ApplyOrderFindingOracle\",\"EstimatePeriod\",\"ShorsAlgorithm\",\"RunShorsAlgorithmQPU\"]",
      "text/html": [
       "<ul><li>ApplyOrderFindingOracle</li><li>EstimatePeriod</li><li>ShorsAlgorithm</li><li>RunShorsAlgorithmQPU</li></ul>"
      ],
      "text/plain": [
       "ApplyOrderFindingOracle, EstimatePeriod, ShorsAlgorithm, RunShorsAlgorithmQPU"
      ]
     },
     "execution_count": 1,
     "metadata": {},
     "output_type": "execute_result"
    }
   ],
   "source": [
    "// Example 12-1: Complete factoring with Shor\n",
    "\n",
    "open Microsoft.Quantum.Diagnostics;\n",
    "open Microsoft.Quantum.Arithmetic;\n",
    "open Microsoft.Quantum.Convert;\n",
    "open Microsoft.Quantum.Math;\n",
    "open Microsoft.Quantum.Oracles;\n",
    "open Microsoft.Quantum.Characterization;\n",
    "\n",
    "\n",
    "operation ApplyOrderFindingOracle(generator : Int, modulus : Int, power : Int, target : Qubit[]) : Unit is Adj + Ctl {\n",
    "    MultiplyByModularInteger(ExpModI(generator, power, modulus), modulus, LittleEndian(target));\n",
    "}\n",
    "\n",
    "operation EstimatePeriod(generator : Int, modulus : Int) : Int {\n",
    "    mutable result = 1;\n",
    "    let bitsize = BitSizeI(modulus);\n",
    "    let bitsPrecision = 2 * bitsize + 1;\n",
    "\n",
    "    repeat {\n",
    "        mutable dyadicFractionNum = 0;\n",
    "\n",
    "        use eigenstateRegister = Qubit[bitsize];\n",
    "        let eigenstateRegisterLE = LittleEndian(eigenstateRegister);\n",
    "        ApplyXorInPlace(1, eigenstateRegisterLE);\n",
    "\n",
    "        let oracle = DiscreteOracle(ApplyOrderFindingOracle(generator, modulus, _, _));\n",
    "\n",
    "        use register = Qubit[bitsPrecision];\n",
    "        let dyadicFractionNumerator = LittleEndian(register);\n",
    "\n",
    "        QuantumPhaseEstimation(oracle, eigenstateRegisterLE!, LittleEndianAsBigEndian(dyadicFractionNumerator));\n",
    "\n",
    "        set dyadicFractionNum = MeasureInteger(dyadicFractionNumerator);\n",
    "\n",
    "        ResetAll(eigenstateRegister);\n",
    "\n",
    "        if (dyadicFractionNum == 0) {\n",
    "            fail \"We measured 0 for the numerator\";\n",
    "        }\n",
    "\n",
    "        Message($\"Estimated eigenvalue is {dyadicFractionNum}/2^{bitsPrecision}.\");\n",
    "\n",
    "        let (numerator, period) = (ContinuedFractionConvergentI(Fraction(dyadicFractionNum, 2 ^ bitsPrecision), modulus))!;\n",
    "        let (numeratorAbs, periodAbs) = (AbsI(numerator), AbsI(period));\n",
    "\n",
    "        Message($\"Estimated divisor of period is {periodAbs}, \" + $\" we have projected on eigenstate marked by {numeratorAbs}.\");\n",
    "\n",
    "        set result = (periodAbs * result) / GreatestCommonDivisorI(result, periodAbs);\n",
    "    }\n",
    "    until (ExpModI(generator, result, modulus) == 1)\n",
    "    fixup {\n",
    "        Message(\"It looks like the period has divisors and we have found only a divisor of the period. Trying again ...\");\n",
    "    }\n",
    "\n",
    "    return result;\n",
    "}\n",
    "\n",
    "\n",
    "operation ShorsAlgorithm (periodFindingRoutine : ((Int, Int) => Int)) : Unit {\n",
    "    // This code is a general-purpose implementation of Shor's algorithm, so it's not optimized for coprime=2\n",
    "    // N = 21 runs a fairly long time, and we don't recommend trying N = 35 and higher.\n",
    "    let N = 15;\n",
    "    let coprime = 2;\n",
    "    \n",
    "    Message($\"Estimating period of {coprime}...\");\n",
    "\n",
    "    // Call Quantum Period finding algorithm for `coprime` mod `N`.\n",
    "    let period = periodFindingRoutine(coprime, N);\n",
    "\n",
    "    // Period finding reduces to factoring only if period is even\n",
    "    if (period % 2 == 0) {\n",
    "\n",
    "        // Compute `coprimeCandidate` ^ `period/2` mod `N`\n",
    "        let halfPower = ExpModI(coprime, period / 2, N);\n",
    "\n",
    "        if (halfPower != N - 1) {\n",
    "            // When the halfPower is not -1 mod N,\n",
    "            // halfPower-1 or halfPower+1 share non-trivial divisor with `N`\n",
    "            let factor = MaxI(GreatestCommonDivisorI(halfPower - 1, N), \n",
    "                              GreatestCommonDivisorI(halfPower + 1, N));\n",
    "\n",
    "            // Return computed non-trivial factors.\n",
    "            Message($\"Factors are {factor} and {N / factor}\");\n",
    "        } else {\n",
    "            // If we are unlucky, halfPower is just -1 mod N\n",
    "            // This is a trivial case not useful for factoring\n",
    "            fail \"Residue xᵃ = -1 (mod N) where a is a period.\";\n",
    "        }\n",
    "    } else {\n",
    "        // When period is odd we have to pick another number to estimate\n",
    "        // period of and start over.\n",
    "        fail \"Period is odd.\";\n",
    "    }\n",
    "\n",
    "}\n",
    "\n",
    "operation RunShorsAlgorithmQPU () : Unit {\n",
    "    ShorsAlgorithm(EstimatePeriod);\n",
    "}"
   ]
  },
  {
   "cell_type": "code",
   "execution_count": 2,
   "metadata": {
    "scrolled": false
   },
   "outputs": [
    {
     "name": "stdout",
     "output_type": "stream",
     "text": [
      "Estimating period of 2...\n",
      "Estimated eigenvalue is 384/2^9.\n",
      "Estimated divisor of period is 4,  we have projected on eigenstate marked by 3.\n",
      "Factors are 5 and 3\n"
     ]
    },
    {
     "data": {
      "application/json": "{\"@type\":\"tuple\"}",
      "text/plain": [
       "()"
      ]
     },
     "execution_count": 2,
     "metadata": {},
     "output_type": "execute_result"
    }
   ],
   "source": [
    "%simulate RunShorsAlgorithmQPU"
   ]
  },
  {
   "cell_type": "markdown",
   "metadata": {},
   "source": [
    "### Example 12-2: Factoring without a QPU"
   ]
  },
  {
   "cell_type": "code",
   "execution_count": 3,
   "metadata": {},
   "outputs": [
    {
     "data": {
      "application/json": "[\"EstimatePeriodNoQPU\",\"RunShorsAlgorithmNoQPU\"]",
      "text/html": [
       "<ul><li>EstimatePeriodNoQPU</li><li>RunShorsAlgorithmNoQPU</li></ul>"
      ],
      "text/plain": [
       "EstimatePeriodNoQPU, RunShorsAlgorithmNoQPU"
      ]
     },
     "execution_count": 3,
     "metadata": {},
     "output_type": "execute_result"
    }
   ],
   "source": [
    "// Example 12-2: Factoring without a QPU\n",
    "\n",
    "open Microsoft.Quantum.Diagnostics;\n",
    "open Microsoft.Quantum.Math;\n",
    "\n",
    "operation EstimatePeriodNoQPU(generator : Int, modulus : Int) : Int {\n",
    "    let bitsize = BitSizeI(modulus);\n",
    "    let bitsPrecision = 2 * bitsize + 1;\n",
    "    mutable work = 1;\n",
    "    for iter in 0 .. (2 <<< bitsPrecision) - 1 {\n",
    "        set work = (work * generator) % modulus;\n",
    "        if (work == 1) {\n",
    "            return iter + 1;\n",
    "        }\n",
    "    }\n",
    "    return 0;\n",
    "}\n",
    "\n",
    "operation RunShorsAlgorithmNoQPU () : Unit {\n",
    "    ShorsAlgorithm(EstimatePeriodNoQPU);\n",
    "}"
   ]
  },
  {
   "cell_type": "code",
   "execution_count": 4,
   "metadata": {
    "scrolled": false
   },
   "outputs": [
    {
     "name": "stdout",
     "output_type": "stream",
     "text": [
      "Estimating period of 2...\n",
      "Factors are 5 and 3\n"
     ]
    },
    {
     "data": {
      "application/json": "{\"@type\":\"tuple\"}",
      "text/plain": [
       "()"
      ]
     },
     "execution_count": 4,
     "metadata": {},
     "output_type": "execute_result"
    }
   ],
   "source": [
    "%simulate RunShorsAlgorithmNoQPU"
   ]
  }
 ],
 "metadata": {
  "kernelspec": {
   "display_name": "Q#",
   "language": "qsharp",
   "name": "iqsharp"
  },
  "language_info": {
   "file_extension": ".qs",
   "mimetype": "text/x-qsharp",
   "name": "qsharp",
   "version": "0.14"
  }
 },
 "nbformat": 4,
 "nbformat_minor": 2
}
