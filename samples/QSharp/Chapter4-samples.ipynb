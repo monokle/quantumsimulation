{
 "cells": [
  {
   "cell_type": "markdown",
   "metadata": {},
   "source": [
    "![(book cover)](https://covers.oreillystatic.com/images/0636920167433/cat.gif \"(book cover)\")\n",
    "# \"Programming Quantum Computers\" by O'Reilly Media -  [book info](http://shop.oreilly.com/product/0636920167433.do)  - [all code samples](https://oreilly-qc.github.io)\n",
    "\n",
    "## Code samples for Chapter 4\n",
    "These code samples were written by Mariia Mykhailova."
   ]
  },
  {
   "cell_type": "markdown",
   "metadata": {},
   "source": [
    "#### Example 4-1: Teleport and verify"
   ]
  },
  {
   "cell_type": "code",
   "execution_count": 1,
   "metadata": {},
   "outputs": [
    {
     "data": {
      "application/json": "[\"MeasureBellBasis\",\"PrepareBellState\",\"TeleportAndVerify\"]",
      "text/html": [
       "<ul><li>MeasureBellBasis</li><li>PrepareBellState</li><li>TeleportAndVerify</li></ul>"
      ],
      "text/plain": [
       "MeasureBellBasis, PrepareBellState, TeleportAndVerify"
      ]
     },
     "execution_count": 1,
     "metadata": {},
     "output_type": "execute_result"
    }
   ],
   "source": [
    "// Example 4-1: Teleport and verify\n",
    "\n",
    "open Microsoft.Quantum.Diagnostics;\n",
    "open Microsoft.Quantum.Measurement;\n",
    "\n",
    "// Helper operation to prepare Bell state on two qubits\n",
    "operation PrepareBellState (q1 : Qubit, q2 : Qubit) : Unit is Adj {\n",
    "    H(q1);\n",
    "    CNOT(q1, q2);\n",
    "}\n",
    "\n",
    "// Helper operation to perform measurement in Bell basis\n",
    "operation MeasureBellBasis (q1 : Qubit, q2 : Qubit) : (Result, Result) {\n",
    "    // convert the qubits from Bell basis to computational basis\n",
    "    Adjoint PrepareBellState(q1, q2);\n",
    "    // measure both qubits and return results\n",
    "    return (MResetZ(q1), MResetZ(q2));\n",
    "}\n",
    "\n",
    "operation TeleportAndVerify () : Unit {\n",
    "    // allocate the qubits: the pair that will be entangled and shared between Alice and Bob and Alice's data qubit\n",
    "    use (aliceEPR, bobEPR, data) = (Qubit(), Qubit(), Qubit());\n",
    "    // prepare the data qubit in some superposition state\n",
    "    Ry(1.0, data);\n",
    "    Message(\"The state to be teleported:\");\n",
    "    DumpRegister((), [data]);\n",
    "\n",
    "    // set up teleportation: prepare the entangled pair of qubits\n",
    "    PrepareBellState(aliceEPR, bobEPR);\n",
    "\n",
    "    // Alice's part of the protocol\n",
    "    let message = MeasureBellBasis(data, aliceEPR);\n",
    "\n",
    "    // Alice sends measurement results to Bob (no direct representation in Q# code)\n",
    "\n",
    "    // let's observe the state of the system at this point\n",
    "    Message(\"\");\n",
    "    Message($\"Measurement results: {message}\");\n",
    "    Message(\"\");\n",
    "    Message(\"The state of Bob's qubit after Alice's measurement\");\n",
    "    DumpRegister((), [bobEPR]);\n",
    "\n",
    "    // Bob applies fixup to his qubit based on the information he received from Alice\n",
    "    let (fix1, fix2) = message;\n",
    "    if (fix2 == One) {\n",
    "        X(bobEPR);\n",
    "    }\n",
    "    if (fix1 == One) {\n",
    "        Z(bobEPR);\n",
    "    }\n",
    "\n",
    "    // regardless of measurement results, Bob's qubit is now in the required state!\n",
    "    Message(\"\");\n",
    "    Message(\"Teleportation result (the state of Bob's qubit)\");\n",
    "    DumpRegister((), [bobEPR]);\n",
    "\n",
    "    // to verify this, we can apply adjoint of the prep operation to Bob's qubit - the result will be |0❭\n",
    "    Adjoint Ry(1.0, bobEPR);\n",
    "\n",
    "    // (if teleportation failed, the program will throw exception at this point)\n",
    "}"
   ]
  },
  {
   "cell_type": "code",
   "execution_count": 2,
   "metadata": {
    "scrolled": true
   },
   "outputs": [
    {
     "name": "stdout",
     "output_type": "stream",
     "text": [
      "The state to be teleported:\n"
     ]
    },
    {
     "data": {
      "application/json": "{\"QubitIds\":[2],\"NQubits\":1,\"Amplitudes\":[{\"Real\":0.8775825618903728,\"Imaginary\":0.0,\"Magnitude\":0.8775825618903728,\"Phase\":0.0},{\"Real\":0.479425538604203,\"Imaginary\":0.0,\"Magnitude\":0.479425538604203,\"Phase\":0.0}]}",
      "text/html": [
       "\r\n",
       "                    <table style=\"table-layout: fixed; width: 100%\">\r\n",
       "                        <thead>\r\n",
       "                            \r\n",
       "                        <tr>\r\n",
       "                            <th>Qubit IDs</th>\r\n",
       "                            <td span=\"3\">2</td>\r\n",
       "                        </tr>\r\n",
       "                    \r\n",
       "                            <tr>\r\n",
       "                                <th style=\"width: 20ch)\">Basis state (little endian)</th>\r\n",
       "                                <th style=\"width: 20ch\">Amplitude</th>\r\n",
       "                                <th style=\"width: calc(100% - 26ch - 20ch)\">Meas. Pr.</th>\r\n",
       "                                <th style=\"width: 6ch\">Phase</th>\r\n",
       "                            </tr>\r\n",
       "                        </thead>\r\n",
       "\r\n",
       "                        <tbody>\r\n",
       "                            \r\n",
       "                            <tr>\r\n",
       "                                <td>$\\left|0\\right\\rangle$</td>\r\n",
       "                                <td>$0.8776 + 0.0000 i$</td>\r\n",
       "                                <td>\r\n",
       "                                    <progress\r\n",
       "                                        max=\"100\"\r\n",
       "                                        value=\"77.01511529340699\"\r\n",
       "                                        style=\"width: 100%;\"\r\n",
       "                                    >\r\n",
       "                                </td>\r\n",
       "                                <td style=\"transform: rotate(0deg);\r\n",
       "                   text-align: center;\">\r\n",
       "                                    ↑\r\n",
       "                                </td>\r\n",
       "                            </tr>\r\n",
       "                        \n",
       "\r\n",
       "                            <tr>\r\n",
       "                                <td>$\\left|1\\right\\rangle$</td>\r\n",
       "                                <td>$0.4794 + 0.0000 i$</td>\r\n",
       "                                <td>\r\n",
       "                                    <progress\r\n",
       "                                        max=\"100\"\r\n",
       "                                        value=\"22.984884706593014\"\r\n",
       "                                        style=\"width: 100%;\"\r\n",
       "                                    >\r\n",
       "                                </td>\r\n",
       "                                <td style=\"transform: rotate(0deg);\r\n",
       "                   text-align: center;\">\r\n",
       "                                    ↑\r\n",
       "                                </td>\r\n",
       "                            </tr>\r\n",
       "                        \r\n",
       "                        </tbody>\r\n",
       "                    </table>\r\n",
       "                "
      ],
      "text/plain": [
       "|0⟩\t0.8775825618903728 + 0𝑖\n",
       "|1⟩\t0.479425538604203 + 0𝑖"
      ]
     },
     "metadata": {},
     "output_type": "display_data"
    },
    {
     "name": "stdout",
     "output_type": "stream",
     "text": [
      "\n",
      "Measurement results: (Zero, Zero)\n",
      "\n",
      "The state of Bob's qubit after Alice's measurement\n"
     ]
    },
    {
     "data": {
      "application/json": "{\"QubitIds\":[1],\"NQubits\":1,\"Amplitudes\":[{\"Real\":0.8775825618903729,\"Imaginary\":0.0,\"Magnitude\":0.8775825618903729,\"Phase\":0.0},{\"Real\":0.47942553860420306,\"Imaginary\":0.0,\"Magnitude\":0.47942553860420306,\"Phase\":0.0}]}",
      "text/html": [
       "\r\n",
       "                    <table style=\"table-layout: fixed; width: 100%\">\r\n",
       "                        <thead>\r\n",
       "                            \r\n",
       "                        <tr>\r\n",
       "                            <th>Qubit IDs</th>\r\n",
       "                            <td span=\"3\">1</td>\r\n",
       "                        </tr>\r\n",
       "                    \r\n",
       "                            <tr>\r\n",
       "                                <th style=\"width: 20ch)\">Basis state (little endian)</th>\r\n",
       "                                <th style=\"width: 20ch\">Amplitude</th>\r\n",
       "                                <th style=\"width: calc(100% - 26ch - 20ch)\">Meas. Pr.</th>\r\n",
       "                                <th style=\"width: 6ch\">Phase</th>\r\n",
       "                            </tr>\r\n",
       "                        </thead>\r\n",
       "\r\n",
       "                        <tbody>\r\n",
       "                            \r\n",
       "                            <tr>\r\n",
       "                                <td>$\\left|0\\right\\rangle$</td>\r\n",
       "                                <td>$0.8776 + 0.0000 i$</td>\r\n",
       "                                <td>\r\n",
       "                                    <progress\r\n",
       "                                        max=\"100\"\r\n",
       "                                        value=\"77.015115293407\"\r\n",
       "                                        style=\"width: 100%;\"\r\n",
       "                                    >\r\n",
       "                                </td>\r\n",
       "                                <td style=\"transform: rotate(0deg);\r\n",
       "                   text-align: center;\">\r\n",
       "                                    ↑\r\n",
       "                                </td>\r\n",
       "                            </tr>\r\n",
       "                        \n",
       "\r\n",
       "                            <tr>\r\n",
       "                                <td>$\\left|1\\right\\rangle$</td>\r\n",
       "                                <td>$0.4794 + 0.0000 i$</td>\r\n",
       "                                <td>\r\n",
       "                                    <progress\r\n",
       "                                        max=\"100\"\r\n",
       "                                        value=\"22.98488470659302\"\r\n",
       "                                        style=\"width: 100%;\"\r\n",
       "                                    >\r\n",
       "                                </td>\r\n",
       "                                <td style=\"transform: rotate(0deg);\r\n",
       "                   text-align: center;\">\r\n",
       "                                    ↑\r\n",
       "                                </td>\r\n",
       "                            </tr>\r\n",
       "                        \r\n",
       "                        </tbody>\r\n",
       "                    </table>\r\n",
       "                "
      ],
      "text/plain": [
       "|0⟩\t0.8775825618903729 + 0𝑖\n",
       "|1⟩\t0.47942553860420306 + 0𝑖"
      ]
     },
     "metadata": {},
     "output_type": "display_data"
    },
    {
     "name": "stdout",
     "output_type": "stream",
     "text": [
      "\n",
      "Teleportation result (the state of Bob's qubit)\n"
     ]
    },
    {
     "data": {
      "application/json": "{\"QubitIds\":[1],\"NQubits\":1,\"Amplitudes\":[{\"Real\":0.8775825618903729,\"Imaginary\":0.0,\"Magnitude\":0.8775825618903729,\"Phase\":0.0},{\"Real\":0.47942553860420306,\"Imaginary\":0.0,\"Magnitude\":0.47942553860420306,\"Phase\":0.0}]}",
      "text/html": [
       "\r\n",
       "                    <table style=\"table-layout: fixed; width: 100%\">\r\n",
       "                        <thead>\r\n",
       "                            \r\n",
       "                        <tr>\r\n",
       "                            <th>Qubit IDs</th>\r\n",
       "                            <td span=\"3\">1</td>\r\n",
       "                        </tr>\r\n",
       "                    \r\n",
       "                            <tr>\r\n",
       "                                <th style=\"width: 20ch)\">Basis state (little endian)</th>\r\n",
       "                                <th style=\"width: 20ch\">Amplitude</th>\r\n",
       "                                <th style=\"width: calc(100% - 26ch - 20ch)\">Meas. Pr.</th>\r\n",
       "                                <th style=\"width: 6ch\">Phase</th>\r\n",
       "                            </tr>\r\n",
       "                        </thead>\r\n",
       "\r\n",
       "                        <tbody>\r\n",
       "                            \r\n",
       "                            <tr>\r\n",
       "                                <td>$\\left|0\\right\\rangle$</td>\r\n",
       "                                <td>$0.8776 + 0.0000 i$</td>\r\n",
       "                                <td>\r\n",
       "                                    <progress\r\n",
       "                                        max=\"100\"\r\n",
       "                                        value=\"77.015115293407\"\r\n",
       "                                        style=\"width: 100%;\"\r\n",
       "                                    >\r\n",
       "                                </td>\r\n",
       "                                <td style=\"transform: rotate(0deg);\r\n",
       "                   text-align: center;\">\r\n",
       "                                    ↑\r\n",
       "                                </td>\r\n",
       "                            </tr>\r\n",
       "                        \n",
       "\r\n",
       "                            <tr>\r\n",
       "                                <td>$\\left|1\\right\\rangle$</td>\r\n",
       "                                <td>$0.4794 + 0.0000 i$</td>\r\n",
       "                                <td>\r\n",
       "                                    <progress\r\n",
       "                                        max=\"100\"\r\n",
       "                                        value=\"22.98488470659302\"\r\n",
       "                                        style=\"width: 100%;\"\r\n",
       "                                    >\r\n",
       "                                </td>\r\n",
       "                                <td style=\"transform: rotate(0deg);\r\n",
       "                   text-align: center;\">\r\n",
       "                                    ↑\r\n",
       "                                </td>\r\n",
       "                            </tr>\r\n",
       "                        \r\n",
       "                        </tbody>\r\n",
       "                    </table>\r\n",
       "                "
      ],
      "text/plain": [
       "|0⟩\t0.8775825618903729 + 0𝑖\n",
       "|1⟩\t0.47942553860420306 + 0𝑖"
      ]
     },
     "metadata": {},
     "output_type": "display_data"
    },
    {
     "data": {
      "application/json": "{\"@type\":\"tuple\"}",
      "text/plain": [
       "()"
      ]
     },
     "execution_count": 2,
     "metadata": {},
     "output_type": "execute_result"
    }
   ],
   "source": [
    "%simulate TeleportAndVerify"
   ]
  }
 ],
 "metadata": {
  "kernelspec": {
   "display_name": "Q#",
   "language": "qsharp",
   "name": "iqsharp"
  },
  "language_info": {
   "file_extension": ".qs",
   "mimetype": "text/x-qsharp",
   "name": "qsharp",
   "version": "0.14"
  }
 },
 "nbformat": 4,
 "nbformat_minor": 2
}
